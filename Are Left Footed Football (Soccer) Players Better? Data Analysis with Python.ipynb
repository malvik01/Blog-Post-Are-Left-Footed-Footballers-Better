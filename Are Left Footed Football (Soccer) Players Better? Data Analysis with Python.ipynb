{
 "cells": [
  {
   "cell_type": "markdown",
   "id": "efddbc15",
   "metadata": {},
   "source": [
    "# Are Left Footed Football (Soccer) Players Better? Data Analysis with Python\n",
    "\n",
    "This Notebook contains the code for the Medium blog post."
   ]
  },
  {
   "cell_type": "markdown",
   "id": "20e8ccc8",
   "metadata": {},
   "source": [
    "-------"
   ]
  },
  {
   "cell_type": "markdown",
   "id": "4c482635",
   "metadata": {},
   "source": [
    "### Table of Contents (click to navigate)\n",
    "#### [1. Data Preparation](#1)\n",
    "#### [2. Proportion of Left Footed Players](#2)\n",
    "#### [3. Proportion of Position](#3)\n",
    "#### [4. Comparison by Nationality](#4)\n",
    "#### [5. Comparison by League](#5)\n",
    "#### [6. Comparison by Club Team](#6)"
   ]
  },
  {
   "cell_type": "markdown",
   "id": "11585798",
   "metadata": {},
   "source": [
    "-----"
   ]
  },
  {
   "cell_type": "markdown",
   "id": "379038f2",
   "metadata": {},
   "source": [
    "### Data Preparation\n",
    "<a id=1 a>"
   ]
  },
  {
   "attachments": {},
   "cell_type": "markdown",
   "id": "e482091d",
   "metadata": {},
   "source": [
    "First let's prepare our data.\n",
    "\n",
    "The dataset contains 110 attributes for almost 20,000 licenced football players.\n",
    "\n",
    "The attributes of interest are:\n",
    "\n",
    "* <b>short_name</b>: This is simply the players name\n",
    "* <b>nationality_name</b>: This is the players nationality\n",
    "* <b>preferred_foot</b>: This is whether the player is left or right footed\n",
    "* <b>player_positions</b>: This contains the positions the player can play in i.e. central midfield, left midfield etc. A player can play in multiple positions but the field populates data in order of their best position \n",
    "* <b>league_name</b>: This is the players current league i.e. Premier League\n",
    "* <b>club_name</b>: This is the club that the player currently plays for i.e. Arsenal FC"
   ]
  },
  {
   "cell_type": "code",
   "execution_count": 1,
   "id": "8474ed86",
   "metadata": {},
   "outputs": [],
   "source": [
    "#importing relevant libraries\n",
    "import pandas as pd\n",
    "import seaborn as sns\n",
    "import matplotlib.pyplot as plt\n",
    "\n",
    "#options and settings\n",
    "pd.set_option('display.max_rows', None)\n",
    "pd.set_option('display.max_columns', None)\n",
    "pd.set_option('display.max_colwidth', 1000)\n",
    "pd.set_option('display.colheader_justify', 'center')\n",
    "pd.set_option('display.precision', 2)\n"
   ]
  },
  {
   "cell_type": "code",
   "execution_count": 2,
   "id": "8d2e2b9a",
   "metadata": {},
   "outputs": [],
   "source": [
    "players = pd.read_csv(\"players_22.csv\", low_memory=False)"
   ]
  },
  {
   "cell_type": "code",
   "execution_count": 3,
   "id": "23472529",
   "metadata": {},
   "outputs": [
    {
     "data": {
      "text/plain": [
       "(19239, 110)"
      ]
     },
     "execution_count": 3,
     "metadata": {},
     "output_type": "execute_result"
    }
   ],
   "source": [
    "#this returns the total number of players and the number of attributes\n",
    "players.shape"
   ]
  },
  {
   "cell_type": "code",
   "execution_count": 4,
   "id": "6bb0910f",
   "metadata": {},
   "outputs": [],
   "source": [
    "#selecting the relevant columns only\n",
    "columns = ['short_name', 'nationality_name', 'preferred_foot', 'player_positions','league_name','club_name','overall']\n",
    "\n",
    "players = players[columns]"
   ]
  },
  {
   "cell_type": "code",
   "execution_count": 5,
   "id": "6065313f",
   "metadata": {
    "scrolled": true
   },
   "outputs": [],
   "source": [
    "#ensuring appropriate data types\n",
    "players['short_name'] = players['short_name'].astype(str)\n",
    "players['nationality_name'] = players['nationality_name'].astype(str)\n",
    "players['preferred_foot'] = players['preferred_foot'].astype(str)\n",
    "players['player_positions'] = players['player_positions'].astype(str)\n",
    "players['league_name'] = players['league_name'].astype(str)"
   ]
  },
  {
   "cell_type": "code",
   "execution_count": 6,
   "id": "5b8b323d",
   "metadata": {},
   "outputs": [
    {
     "data": {
      "text/html": [
       "<div>\n",
       "<style scoped>\n",
       "    .dataframe tbody tr th:only-of-type {\n",
       "        vertical-align: middle;\n",
       "    }\n",
       "\n",
       "    .dataframe tbody tr th {\n",
       "        vertical-align: top;\n",
       "    }\n",
       "\n",
       "    .dataframe thead th {\n",
       "        text-align: right;\n",
       "    }\n",
       "</style>\n",
       "<table border=\"1\" class=\"dataframe\">\n",
       "  <thead>\n",
       "    <tr style=\"text-align: center;\">\n",
       "      <th></th>\n",
       "      <th>short_name</th>\n",
       "      <th>nationality_name</th>\n",
       "      <th>preferred_foot</th>\n",
       "      <th>player_positions</th>\n",
       "      <th>league_name</th>\n",
       "      <th>club_name</th>\n",
       "      <th>overall</th>\n",
       "    </tr>\n",
       "  </thead>\n",
       "  <tbody>\n",
       "    <tr>\n",
       "      <th>0</th>\n",
       "      <td>L. Messi</td>\n",
       "      <td>Argentina</td>\n",
       "      <td>Left</td>\n",
       "      <td>RW, ST, CF</td>\n",
       "      <td>French Ligue 1</td>\n",
       "      <td>Paris Saint-Germain</td>\n",
       "      <td>93</td>\n",
       "    </tr>\n",
       "    <tr>\n",
       "      <th>1</th>\n",
       "      <td>R. Lewandowski</td>\n",
       "      <td>Poland</td>\n",
       "      <td>Right</td>\n",
       "      <td>ST</td>\n",
       "      <td>German 1. Bundesliga</td>\n",
       "      <td>FC Bayern München</td>\n",
       "      <td>92</td>\n",
       "    </tr>\n",
       "    <tr>\n",
       "      <th>2</th>\n",
       "      <td>Cristiano Ronaldo</td>\n",
       "      <td>Portugal</td>\n",
       "      <td>Right</td>\n",
       "      <td>ST, LW</td>\n",
       "      <td>English Premier League</td>\n",
       "      <td>Manchester United</td>\n",
       "      <td>91</td>\n",
       "    </tr>\n",
       "    <tr>\n",
       "      <th>3</th>\n",
       "      <td>Neymar Jr</td>\n",
       "      <td>Brazil</td>\n",
       "      <td>Right</td>\n",
       "      <td>LW, CAM</td>\n",
       "      <td>French Ligue 1</td>\n",
       "      <td>Paris Saint-Germain</td>\n",
       "      <td>91</td>\n",
       "    </tr>\n",
       "    <tr>\n",
       "      <th>4</th>\n",
       "      <td>K. De Bruyne</td>\n",
       "      <td>Belgium</td>\n",
       "      <td>Right</td>\n",
       "      <td>CM, CAM</td>\n",
       "      <td>English Premier League</td>\n",
       "      <td>Manchester City</td>\n",
       "      <td>91</td>\n",
       "    </tr>\n",
       "  </tbody>\n",
       "</table>\n",
       "</div>"
      ],
      "text/plain": [
       "      short_name     nationality_name preferred_foot player_positions  \\\n",
       "0           L. Messi     Argentina          Left        RW, ST, CF      \n",
       "1     R. Lewandowski        Poland         Right                ST      \n",
       "2  Cristiano Ronaldo      Portugal         Right            ST, LW      \n",
       "3          Neymar Jr        Brazil         Right           LW, CAM      \n",
       "4       K. De Bruyne       Belgium         Right           CM, CAM      \n",
       "\n",
       "        league_name            club_name        overall  \n",
       "0          French Ligue 1  Paris Saint-Germain    93     \n",
       "1    German 1. Bundesliga    FC Bayern München    92     \n",
       "2  English Premier League    Manchester United    91     \n",
       "3          French Ligue 1  Paris Saint-Germain    91     \n",
       "4  English Premier League      Manchester City    91     "
      ]
     },
     "execution_count": 6,
     "metadata": {},
     "output_type": "execute_result"
    }
   ],
   "source": [
    "players.head(5)"
   ]
  },
  {
   "cell_type": "code",
   "execution_count": 7,
   "id": "e6347b9c",
   "metadata": {},
   "outputs": [
    {
     "data": {
      "text/html": [
       "<div>\n",
       "<style scoped>\n",
       "    .dataframe tbody tr th:only-of-type {\n",
       "        vertical-align: middle;\n",
       "    }\n",
       "\n",
       "    .dataframe tbody tr th {\n",
       "        vertical-align: top;\n",
       "    }\n",
       "\n",
       "    .dataframe thead th {\n",
       "        text-align: right;\n",
       "    }\n",
       "</style>\n",
       "<table border=\"1\" class=\"dataframe\">\n",
       "  <thead>\n",
       "    <tr style=\"text-align: center;\">\n",
       "      <th></th>\n",
       "      <th>short_name</th>\n",
       "      <th>nationality_name</th>\n",
       "      <th>preferred_foot</th>\n",
       "      <th>player_positions</th>\n",
       "      <th>league_name</th>\n",
       "      <th>club_name</th>\n",
       "      <th>overall</th>\n",
       "    </tr>\n",
       "  </thead>\n",
       "  <tbody>\n",
       "    <tr>\n",
       "      <th>0</th>\n",
       "      <td>L. Messi</td>\n",
       "      <td>Argentina</td>\n",
       "      <td>Left</td>\n",
       "      <td>RW</td>\n",
       "      <td>French Ligue 1</td>\n",
       "      <td>Paris Saint-Germain</td>\n",
       "      <td>93</td>\n",
       "    </tr>\n",
       "    <tr>\n",
       "      <th>1</th>\n",
       "      <td>R. Lewandowski</td>\n",
       "      <td>Poland</td>\n",
       "      <td>Right</td>\n",
       "      <td>ST</td>\n",
       "      <td>German 1. Bundesliga</td>\n",
       "      <td>FC Bayern München</td>\n",
       "      <td>92</td>\n",
       "    </tr>\n",
       "  </tbody>\n",
       "</table>\n",
       "</div>"
      ],
      "text/plain": [
       "     short_name   nationality_name preferred_foot player_positions  \\\n",
       "0        L. Messi     Argentina          Left            RW          \n",
       "1  R. Lewandowski        Poland         Right            ST          \n",
       "\n",
       "       league_name           club_name        overall  \n",
       "0        French Ligue 1  Paris Saint-Germain    93     \n",
       "1  German 1. Bundesliga    FC Bayern München    92     "
      ]
     },
     "execution_count": 7,
     "metadata": {},
     "output_type": "execute_result"
    }
   ],
   "source": [
    "#selecting the primary position for each player in the 'player_position' column\n",
    "players['player_positions']=players['player_positions'].str.split(',').str[0]\n",
    "players.head(2)"
   ]
  },
  {
   "cell_type": "code",
   "execution_count": 8,
   "id": "01ca1d10",
   "metadata": {},
   "outputs": [
    {
     "data": {
      "text/plain": [
       "array(['RW', 'ST', 'LW', 'CM', 'GK', 'CDM', 'CF', 'LM', 'CB', 'CAM', 'LB',\n",
       "       'RB', 'RM', 'LWB', 'RWB'], dtype=object)"
      ]
     },
     "execution_count": 8,
     "metadata": {},
     "output_type": "execute_result"
    }
   ],
   "source": [
    "#returning an array of all positions in the dataset\n",
    "players['player_positions'].unique()"
   ]
  },
  {
   "cell_type": "markdown",
   "id": "195e0816",
   "metadata": {},
   "source": [
    "The players playing in the positions LB, RB, LWB, RWB and GK are to be removed from our analysis (refer to blog post)"
   ]
  },
  {
   "cell_type": "code",
   "execution_count": 9,
   "id": "7ff4ecb4",
   "metadata": {},
   "outputs": [
    {
     "name": "stdout",
     "output_type": "stream",
     "text": [
      "5187 players have been removed\n",
      "\n",
      "\n",
      "Players playing in these positions are retained: ['RW' 'ST' 'LW' 'CM' 'CDM' 'CF' 'LM' 'CB' 'CAM' 'RM']\n"
     ]
    }
   ],
   "source": [
    "#creating a variable to store the total players in the dataframe pre filter\n",
    "total_player_count = len(players)\n",
    "\n",
    "#filtering the dataframe to exclude specific player positions\n",
    "players = players[players['player_positions'].str.contains('GK|LB|RB|LWB|RWB')==False]\n",
    "\n",
    "#creating a variable to store the total players in the dataframe post filter\n",
    "filtered_player_count = len(players)\n",
    "\n",
    "#listing the number of players filtered out and the remaining positions\n",
    "print(f\"{total_player_count - filtered_player_count} players have been removed\") # make this an f string\n",
    "print('\\n')\n",
    "print(f\"Players playing in these positions are retained: {players['player_positions'].unique()}\")\n"
   ]
  },
  {
   "cell_type": "markdown",
   "id": "b960dfb3",
   "metadata": {},
   "source": [
    "-------------"
   ]
  },
  {
   "cell_type": "markdown",
   "id": "1f4ea5c1",
   "metadata": {},
   "source": [
    "### Proportion of Left Footed Players\n",
    "<a id=2 a>"
   ]
  },
  {
   "cell_type": "markdown",
   "id": "af4c3b4d",
   "metadata": {},
   "source": [
    "Let's perform some analysis to get an idea of the percentage of left footed players in our filtered dataset"
   ]
  },
  {
   "cell_type": "code",
   "execution_count": 10,
   "id": "c722a2a3",
   "metadata": {},
   "outputs": [
    {
     "data": {
      "text/html": [
       "<div>\n",
       "<style scoped>\n",
       "    .dataframe tbody tr th:only-of-type {\n",
       "        vertical-align: middle;\n",
       "    }\n",
       "\n",
       "    .dataframe tbody tr th {\n",
       "        vertical-align: top;\n",
       "    }\n",
       "\n",
       "    .dataframe thead th {\n",
       "        text-align: right;\n",
       "    }\n",
       "</style>\n",
       "<table border=\"1\" class=\"dataframe\">\n",
       "  <thead>\n",
       "    <tr style=\"text-align: center;\">\n",
       "      <th></th>\n",
       "      <th>preferred_foot</th>\n",
       "      <th>count</th>\n",
       "      <th>total</th>\n",
       "      <th>percentage_of_total</th>\n",
       "    </tr>\n",
       "  </thead>\n",
       "  <tbody>\n",
       "    <tr>\n",
       "      <th>0</th>\n",
       "      <td>Left</td>\n",
       "      <td>2907</td>\n",
       "      <td>14052</td>\n",
       "      <td>20.7</td>\n",
       "    </tr>\n",
       "    <tr>\n",
       "      <th>1</th>\n",
       "      <td>Right</td>\n",
       "      <td>11145</td>\n",
       "      <td>14052</td>\n",
       "      <td>79.3</td>\n",
       "    </tr>\n",
       "  </tbody>\n",
       "</table>\n",
       "</div>"
      ],
      "text/plain": [
       "  preferred_foot  count  total  percentage_of_total\n",
       "0       Left       2907  14052         20.7        \n",
       "1      Right      11145  14052         79.3        "
      ]
     },
     "execution_count": 10,
     "metadata": {},
     "output_type": "execute_result"
    }
   ],
   "source": [
    "#creating a new dataframe that counts the occurence of each preferred foot (left or right)\n",
    "count_left_right = \\\n",
    "players[['preferred_foot','overall']].\\\n",
    "groupby(by='preferred_foot').count().\\\n",
    "reset_index().\\\n",
    "rename(columns={\"overall\":\"count\"})\n",
    "\n",
    "#creating a new total column storing the total number of players\n",
    "count_left_right['total'] = count_left_right[\"count\"].sum()\n",
    "\n",
    "#creating a new column showing the percentage of total for each record\n",
    "count_left_right['percentage_of_total'] = round(count_left_right['count']/count_left_right['total']*100,1)\n",
    "\n",
    "#displaying the dataframe\n",
    "count_left_right\n"
   ]
  },
  {
   "cell_type": "code",
   "execution_count": 11,
   "id": "38c51c69",
   "metadata": {},
   "outputs": [
    {
     "data": {
      "text/plain": [
       "Text(0.5, 0.32, 'The reference line is at 20% which is the best estimate from sources for the percentage of left-footers in total population')"
      ]
     },
     "execution_count": 11,
     "metadata": {},
     "output_type": "execute_result"
    },
    {
     "data": {
      "image/png": "[encoded data removed]",
      "text/plain": [
       "<Figure size 864x432 with 1 Axes>"
      ]
     },
     "metadata": {
      "needs_background": "light"
     },
     "output_type": "display_data"
    }
   ],
   "source": [
    "#seaborn bar chart showing the percentage of left and right footed players as a proportion of the population\n",
    "plt.figure(figsize=(12,6))\n",
    "sns.set_style(\"white\")\n",
    "sns.set(font_scale = 1.2)\n",
    "g = sns.barplot(data=count_left_right, x=count_left_right['preferred_foot'],y=count_left_right['percentage_of_total'], palette='Paired', alpha=0.5)\n",
    "g.axhline(20, color='black')\n",
    "g.set_title('Percentage of Left vs Right Footed Players', fontsize=20)\n",
    "g.set_ylabel(\"Percentage (%)\", fontsize=16)\n",
    "g.set_xlabel(\"Preferred Foot\", fontsize=16)\n",
    "txt=\"The reference line is at 20% which is the best estimate from sources for the percentage of left-footers in total population\"\n",
    "plt.figtext(0.5, 0.32, txt, wrap=True, horizontalalignment='center', fontsize=12)\n"
   ]
  },
  {
   "cell_type": "markdown",
   "id": "ff10ce95",
   "metadata": {},
   "source": [
    "-------"
   ]
  },
  {
   "cell_type": "markdown",
   "id": "f8412563",
   "metadata": {},
   "source": [
    "### Comparision by Position Played\n",
    "<a id=3 a>"
   ]
  },
  {
   "cell_type": "markdown",
   "id": "64aa8a9d",
   "metadata": {},
   "source": [
    "Let's perform some analysis to get an idea of the playing positions that favour left-footed players"
   ]
  },
  {
   "cell_type": "code",
   "execution_count": 12,
   "id": "8fc0d5e8",
   "metadata": {},
   "outputs": [
    {
     "data": {
      "text/plain": [
       "<seaborn.axisgrid.FacetGrid at 0x7f8dd845a970>"
      ]
     },
     "execution_count": 12,
     "metadata": {},
     "output_type": "execute_result"
    },
    {
     "data": {
      "image/png": "[encoded data removed]",
      "text/plain": [
       "<Figure size 965.185x432 with 1 Axes>"
      ]
     },
     "metadata": {},
     "output_type": "display_data"
    }
   ],
   "source": [
    "#point plot showing the average overall ability for players in each position split by preferred foot\n",
    "sns.set(font_scale = 1.2)\n",
    "\n",
    "g = sns.catplot(\n",
    "    data=players, \\\n",
    "    x=\"player_positions\", \\\n",
    "    y=\"overall\", \\\n",
    "    hue=\"preferred_foot\", \\\n",
    "    palette=\"Paired\", \\\n",
    "    ci=None,\n",
    "    kind=\"point\", \\\n",
    "    height=6, \\\n",
    "    aspect=2, \\\n",
    "    alpha=0.5)\n",
    "\n",
    "g.fig.suptitle('Average Overall Ability by Player Position and Preferred Foot', fontsize=20 )\n",
    "\n",
    "g.set(xlabel='', ylabel='')\n"
   ]
  },
  {
   "cell_type": "markdown",
   "id": "a27e2231",
   "metadata": {},
   "source": [
    "-----------"
   ]
  },
  {
   "cell_type": "markdown",
   "id": "2c8bafc1",
   "metadata": {},
   "source": [
    "### Comparison by Nationality\n",
    "<a id=4 a>"
   ]
  },
  {
   "cell_type": "markdown",
   "id": "3aaea50b",
   "metadata": {},
   "source": [
    "Let's perform some analysis to get an idea of the nationalities that favour left-footed players"
   ]
  },
  {
   "cell_type": "code",
   "execution_count": 13,
   "id": "10de9a6b",
   "metadata": {
    "scrolled": true
   },
   "outputs": [
    {
     "data": {
      "text/html": [
       "<style type=\"text/css\">\n",
       "</style>\n",
       "<table id=\"T_0831c\">\n",
       "  <thead>\n",
       "    <tr>\n",
       "      <th id=\"T_0831c_level0_col0\" class=\"col_heading level0 col0\" >Nationality of Player</th>\n",
       "      <th id=\"T_0831c_level0_col1\" class=\"col_heading level0 col1\" >Number of Players</th>\n",
       "    </tr>\n",
       "  </thead>\n",
       "  <tbody>\n",
       "    <tr>\n",
       "      <td id=\"T_0831c_row0_col0\" class=\"data row0 col0\" >England</td>\n",
       "      <td id=\"T_0831c_row0_col1\" class=\"data row0 col1\" >1225</td>\n",
       "    </tr>\n",
       "    <tr>\n",
       "      <td id=\"T_0831c_row1_col0\" class=\"data row1 col0\" >Germany</td>\n",
       "      <td id=\"T_0831c_row1_col1\" class=\"data row1 col1\" >872</td>\n",
       "    </tr>\n",
       "    <tr>\n",
       "      <td id=\"T_0831c_row2_col0\" class=\"data row2 col0\" >Spain</td>\n",
       "      <td id=\"T_0831c_row2_col1\" class=\"data row2 col1\" >780</td>\n",
       "    </tr>\n",
       "    <tr>\n",
       "      <td id=\"T_0831c_row3_col0\" class=\"data row3 col0\" >Argentina</td>\n",
       "      <td id=\"T_0831c_row3_col1\" class=\"data row3 col1\" >737</td>\n",
       "    </tr>\n",
       "    <tr>\n",
       "      <td id=\"T_0831c_row4_col0\" class=\"data row4 col0\" >France</td>\n",
       "      <td id=\"T_0831c_row4_col1\" class=\"data row4 col1\" >735</td>\n",
       "    </tr>\n",
       "    <tr>\n",
       "      <td id=\"T_0831c_row5_col0\" class=\"data row5 col0\" >Brazil</td>\n",
       "      <td id=\"T_0831c_row5_col1\" class=\"data row5 col1\" >685</td>\n",
       "    </tr>\n",
       "    <tr>\n",
       "      <td id=\"T_0831c_row6_col0\" class=\"data row6 col0\" >Japan</td>\n",
       "      <td id=\"T_0831c_row6_col1\" class=\"data row6 col1\" >402</td>\n",
       "    </tr>\n",
       "    <tr>\n",
       "      <td id=\"T_0831c_row7_col0\" class=\"data row7 col0\" >Netherlands</td>\n",
       "      <td id=\"T_0831c_row7_col1\" class=\"data row7 col1\" >305</td>\n",
       "    </tr>\n",
       "    <tr>\n",
       "      <td id=\"T_0831c_row8_col0\" class=\"data row8 col0\" >Sweden</td>\n",
       "      <td id=\"T_0831c_row8_col1\" class=\"data row8 col1\" >284</td>\n",
       "    </tr>\n",
       "    <tr>\n",
       "      <td id=\"T_0831c_row9_col0\" class=\"data row9 col0\" >Poland</td>\n",
       "      <td id=\"T_0831c_row9_col1\" class=\"data row9 col1\" >283</td>\n",
       "    </tr>\n",
       "  </tbody>\n",
       "</table>\n"
      ],
      "text/plain": [
       "<pandas.io.formats.style.Styler at 0x7f8dd84f8eb0>"
      ]
     },
     "execution_count": 13,
     "metadata": {},
     "output_type": "execute_result"
    }
   ],
   "source": [
    "#creating a variable to store the total number of players for each nationality\n",
    "#retaining only top 10 nationalities by count descending\n",
    "count_by_nationality = \\\n",
    "players.groupby(by='nationality_name').\\\n",
    "count()['short_name'].\\\n",
    "reset_index().\\\n",
    "sort_values('short_name', ascending=False).\\\n",
    "head(10)\n",
    "\n",
    "#renaming the columns\n",
    "count_by_nationality = \\\n",
    "count_by_nationality.\\\n",
    "rename(columns={\"nationality_name\": \"Nationality of Player\", \"short_name\": \"Number of Players\"})\n",
    "\n",
    "#displaying the dataframe\n",
    "count_by_nationality.style.hide(axis='index')\n"
   ]
  },
  {
   "cell_type": "code",
   "execution_count": 14,
   "id": "1813e4b3",
   "metadata": {},
   "outputs": [],
   "source": [
    "#creating a variable to store the data from players dataframe filtered by top 10 nationalities\n",
    "nationality_analysis = \\\n",
    "players[players['nationality_name'].\\\n",
    "str.contains('England|Germany|Spain|Argentina|France|Brazil|Japan|Netherlands|Sweden|Poland')==True]\n",
    "\n",
    "#pivoting the resulting dataframe to create a matrix \n",
    "#each row stores the grouped nationality\n",
    "#there is a column for left and right\n",
    "#the values store the average overall score\n",
    "nationality_analysis = \\\n",
    "nationality_analysis.\\\n",
    "pivot_table(index='nationality_name', columns='preferred_foot', values='overall', aggfunc='mean')\n",
    "\n",
    "\n",
    "#creating a new column flagging nationalities where left footed players are dominant\n",
    "nationality_analysis['Left Dominant'] = nationality_analysis['Left']> nationality_analysis['Right']\n",
    "\n",
    "#creating a new column flagging nationalities where right footed players are dominant\n",
    "nationality_analysis['Right Dominant'] = nationality_analysis['Right']> nationality_analysis['Left']\n",
    "\n",
    "#removing columns \n",
    "nationality_analysis = nationality_analysis[['Left Dominant', 'Right Dominant']]\n"
   ]
  },
  {
   "cell_type": "code",
   "execution_count": 15,
   "id": "7835a249",
   "metadata": {},
   "outputs": [
    {
     "data": {
      "text/plain": [
       "<matplotlib.lines.Line2D at 0x7f8e0bbd6c40>"
      ]
     },
     "execution_count": 15,
     "metadata": {},
     "output_type": "execute_result"
    },
    {
     "data": {
      "image/png": "[encoded data removed]",
      "text/plain": [
       "<Figure size 432x360 with 1 Axes>"
      ]
     },
     "metadata": {},
     "output_type": "display_data"
    }
   ],
   "source": [
    "plt.figure(figsize=(6,5), tight_layout=True)\n",
    "custom_palette = sns.color_palette(\"Paired\")\n",
    "sns.set(font_scale = 1.5)\n",
    "\n",
    "#creating the seaborn heatmap to show nationalities containing left or right dominant players\n",
    "ax = sns.heatmap(nationality_analysis, linewidth=1, linecolor='black', cbar=False, cmap=['white',custom_palette[1]], alpha=0.5)\n",
    "\n",
    "ax.xaxis.tick_top()\n",
    "ax.set(xlabel='', ylabel='')\n",
    "ax.axhline(y=0, color='k',linewidth=10)\n",
    "ax.axhline(y=10, color='k',linewidth=10)\n",
    "ax.axvline(x=0, color='k',linewidth=10)\n",
    "ax.axvline(x=2, color='k',linewidth=10)\n"
   ]
  },
  {
   "cell_type": "markdown",
   "id": "d01ec93d",
   "metadata": {},
   "source": [
    "---------"
   ]
  },
  {
   "cell_type": "markdown",
   "id": "e64072a1",
   "metadata": {},
   "source": [
    "### Comparison by League\n",
    "<a id=5 a>"
   ]
  },
  {
   "cell_type": "markdown",
   "id": "b8c96351",
   "metadata": {},
   "source": [
    "Let's perform some analysis to get an idea of the professional leagues that favour left-footed players"
   ]
  },
  {
   "cell_type": "code",
   "execution_count": 16,
   "id": "e198eb55",
   "metadata": {},
   "outputs": [],
   "source": [
    "#pivoting the players dataframe to create a matrix \n",
    "#each row stores the grouped league name\n",
    "#there is a column for left and right foot\n",
    "#the values store the average overall score\n",
    "league_analysis = \\\n",
    "players.\\\n",
    "pivot_table(index='league_name', columns='preferred_foot', values='overall', aggfunc='mean').\\\n",
    "reset_index()\n",
    "\n",
    "#creating a new column showing the difference in average overall score for left and right footed players\n",
    "league_analysis['difference'] = league_analysis['Left'] - league_analysis['Right']\n",
    "\n",
    "#creating a new column flagging if the league favours left or right footed players\n",
    "league_analysis['left_vs_right'] = \\\n",
    "league_analysis['difference'].\\\n",
    "apply(lambda x: 'Left Footed' if x >0 else 'Right Footed')\n"
   ]
  },
  {
   "cell_type": "code",
   "execution_count": 17,
   "id": "0acee3ed",
   "metadata": {
    "scrolled": false
   },
   "outputs": [
    {
     "data": {
      "text/plain": [
       "Text(0.5, 0, '')"
      ]
     },
     "execution_count": 17,
     "metadata": {},
     "output_type": "execute_result"
    },
    {
     "data": {
      "image/png": "[encoded data removed]",
      "text/plain": [
       "<Figure size 864x432 with 1 Axes>"
      ]
     },
     "metadata": {},
     "output_type": "display_data"
    }
   ],
   "source": [
    "plt.figure(figsize=(12,6))\n",
    "\n",
    "#creating the seaborn countplot\n",
    "g = sns.countplot(x=league_analysis['left_vs_right'], palette='Paired', order = league_analysis['left_vs_right'].value_counts().index, alpha=0.5)\n",
    "g.set_title('Leagues with Dominant Left or Right Footed Players', fontsize=20)\n",
    "g.set_ylabel(\"Count of Leagues\", fontsize=16)\n",
    "g.set_xlabel(\"\", fontsize=16)\n"
   ]
  },
  {
   "cell_type": "markdown",
   "id": "b0f761e8",
   "metadata": {},
   "source": [
    "--------"
   ]
  },
  {
   "cell_type": "markdown",
   "id": "daa39bf4",
   "metadata": {},
   "source": [
    "### Comparison by Club Team (top 5 European Leagues only)\n",
    "<a id=6 a>"
   ]
  },
  {
   "cell_type": "markdown",
   "id": "0d450c8d",
   "metadata": {},
   "source": [
    "Let's perform some analysis to get an idea of the teams that favour left-footed players"
   ]
  },
  {
   "cell_type": "code",
   "execution_count": 18,
   "id": "c139aa0f",
   "metadata": {},
   "outputs": [],
   "source": [
    "#creating a new dataframe filtering the players dataframe for only the top 5 european leagues\n",
    "club_analysis = \\\n",
    "players[players['league_name'].\\\n",
    "str.\\\n",
    "contains('French Ligue 1|German 1. Bundesliga|English Premier League|Spain Primera Division|Italian Serie A')]"
   ]
  },
  {
   "cell_type": "code",
   "execution_count": 19,
   "id": "c2ebfb76",
   "metadata": {},
   "outputs": [
    {
     "data": {
      "text/html": [
       "<style type=\"text/css\">\n",
       "</style>\n",
       "<table id=\"T_40e7d\">\n",
       "  <thead>\n",
       "    <tr>\n",
       "      <th id=\"T_40e7d_level0_col0\" class=\"col_heading level0 col0\" >short_name</th>\n",
       "      <th id=\"T_40e7d_level0_col1\" class=\"col_heading level0 col1\" >nationality_name</th>\n",
       "      <th id=\"T_40e7d_level0_col2\" class=\"col_heading level0 col2\" >preferred_foot</th>\n",
       "      <th id=\"T_40e7d_level0_col3\" class=\"col_heading level0 col3\" >player_positions</th>\n",
       "      <th id=\"T_40e7d_level0_col4\" class=\"col_heading level0 col4\" >league_name</th>\n",
       "      <th id=\"T_40e7d_level0_col5\" class=\"col_heading level0 col5\" >club_name</th>\n",
       "      <th id=\"T_40e7d_level0_col6\" class=\"col_heading level0 col6\" >overall</th>\n",
       "    </tr>\n",
       "  </thead>\n",
       "  <tbody>\n",
       "    <tr>\n",
       "      <td id=\"T_40e7d_row0_col0\" class=\"data row0 col0\" >L. Messi</td>\n",
       "      <td id=\"T_40e7d_row0_col1\" class=\"data row0 col1\" >Argentina</td>\n",
       "      <td id=\"T_40e7d_row0_col2\" class=\"data row0 col2\" >Left</td>\n",
       "      <td id=\"T_40e7d_row0_col3\" class=\"data row0 col3\" >RW</td>\n",
       "      <td id=\"T_40e7d_row0_col4\" class=\"data row0 col4\" >French Ligue 1</td>\n",
       "      <td id=\"T_40e7d_row0_col5\" class=\"data row0 col5\" >Paris Saint-Germain</td>\n",
       "      <td id=\"T_40e7d_row0_col6\" class=\"data row0 col6\" >93</td>\n",
       "    </tr>\n",
       "    <tr>\n",
       "      <td id=\"T_40e7d_row1_col0\" class=\"data row1 col0\" >R. Lewandowski</td>\n",
       "      <td id=\"T_40e7d_row1_col1\" class=\"data row1 col1\" >Poland</td>\n",
       "      <td id=\"T_40e7d_row1_col2\" class=\"data row1 col2\" >Right</td>\n",
       "      <td id=\"T_40e7d_row1_col3\" class=\"data row1 col3\" >ST</td>\n",
       "      <td id=\"T_40e7d_row1_col4\" class=\"data row1 col4\" >German 1. Bundesliga</td>\n",
       "      <td id=\"T_40e7d_row1_col5\" class=\"data row1 col5\" >FC Bayern München</td>\n",
       "      <td id=\"T_40e7d_row1_col6\" class=\"data row1 col6\" >92</td>\n",
       "    </tr>\n",
       "    <tr>\n",
       "      <td id=\"T_40e7d_row2_col0\" class=\"data row2 col0\" >Cristiano Ronaldo</td>\n",
       "      <td id=\"T_40e7d_row2_col1\" class=\"data row2 col1\" >Portugal</td>\n",
       "      <td id=\"T_40e7d_row2_col2\" class=\"data row2 col2\" >Right</td>\n",
       "      <td id=\"T_40e7d_row2_col3\" class=\"data row2 col3\" >ST</td>\n",
       "      <td id=\"T_40e7d_row2_col4\" class=\"data row2 col4\" >English Premier League</td>\n",
       "      <td id=\"T_40e7d_row2_col5\" class=\"data row2 col5\" >Manchester United</td>\n",
       "      <td id=\"T_40e7d_row2_col6\" class=\"data row2 col6\" >91</td>\n",
       "    </tr>\n",
       "    <tr>\n",
       "      <td id=\"T_40e7d_row3_col0\" class=\"data row3 col0\" >Neymar Jr</td>\n",
       "      <td id=\"T_40e7d_row3_col1\" class=\"data row3 col1\" >Brazil</td>\n",
       "      <td id=\"T_40e7d_row3_col2\" class=\"data row3 col2\" >Right</td>\n",
       "      <td id=\"T_40e7d_row3_col3\" class=\"data row3 col3\" >LW</td>\n",
       "      <td id=\"T_40e7d_row3_col4\" class=\"data row3 col4\" >French Ligue 1</td>\n",
       "      <td id=\"T_40e7d_row3_col5\" class=\"data row3 col5\" >Paris Saint-Germain</td>\n",
       "      <td id=\"T_40e7d_row3_col6\" class=\"data row3 col6\" >91</td>\n",
       "    </tr>\n",
       "    <tr>\n",
       "      <td id=\"T_40e7d_row4_col0\" class=\"data row4 col0\" >K. De Bruyne</td>\n",
       "      <td id=\"T_40e7d_row4_col1\" class=\"data row4 col1\" >Belgium</td>\n",
       "      <td id=\"T_40e7d_row4_col2\" class=\"data row4 col2\" >Right</td>\n",
       "      <td id=\"T_40e7d_row4_col3\" class=\"data row4 col3\" >CM</td>\n",
       "      <td id=\"T_40e7d_row4_col4\" class=\"data row4 col4\" >English Premier League</td>\n",
       "      <td id=\"T_40e7d_row4_col5\" class=\"data row4 col5\" >Manchester City</td>\n",
       "      <td id=\"T_40e7d_row4_col6\" class=\"data row4 col6\" >91</td>\n",
       "    </tr>\n",
       "  </tbody>\n",
       "</table>\n"
      ],
      "text/plain": [
       "<pandas.io.formats.style.Styler at 0x7f8de86921f0>"
      ]
     },
     "execution_count": 19,
     "metadata": {},
     "output_type": "execute_result"
    }
   ],
   "source": [
    "club_analysis.head(5).style.hide(axis='index')"
   ]
  },
  {
   "cell_type": "code",
   "execution_count": 20,
   "id": "77ae4864",
   "metadata": {},
   "outputs": [],
   "source": [
    "#pivoting the dataframe to create a matrix \n",
    "#each row stores the grouped club name\n",
    "#there is a column for left and right foot\n",
    "#the values store the average overall score\n",
    "club_analysis = \\\n",
    "club_analysis.\\\n",
    "pivot_table(index='club_name', columns='preferred_foot', values='overall', aggfunc='mean').\\\n",
    "reset_index()"
   ]
  },
  {
   "cell_type": "code",
   "execution_count": 21,
   "id": "8a799566",
   "metadata": {},
   "outputs": [
    {
     "data": {
      "text/html": [
       "<style type=\"text/css\">\n",
       "</style>\n",
       "<table id=\"T_66a14\">\n",
       "  <thead>\n",
       "    <tr>\n",
       "      <th id=\"T_66a14_level0_col0\" class=\"col_heading level0 col0\" >club_name</th>\n",
       "      <th id=\"T_66a14_level0_col1\" class=\"col_heading level0 col1\" >Left</th>\n",
       "      <th id=\"T_66a14_level0_col2\" class=\"col_heading level0 col2\" >Right</th>\n",
       "    </tr>\n",
       "  </thead>\n",
       "  <tbody>\n",
       "    <tr>\n",
       "      <td id=\"T_66a14_row0_col0\" class=\"data row0 col0\" >1. FC Köln</td>\n",
       "      <td id=\"T_66a14_row0_col1\" class=\"data row0 col1\" >73.200000</td>\n",
       "      <td id=\"T_66a14_row0_col2\" class=\"data row0 col2\" >69.117647</td>\n",
       "    </tr>\n",
       "    <tr>\n",
       "      <td id=\"T_66a14_row1_col0\" class=\"data row1 col0\" >1. FC Union Berlin</td>\n",
       "      <td id=\"T_66a14_row1_col1\" class=\"data row1 col1\" >71.000000</td>\n",
       "      <td id=\"T_66a14_row1_col2\" class=\"data row1 col2\" >70.500000</td>\n",
       "    </tr>\n",
       "    <tr>\n",
       "      <td id=\"T_66a14_row2_col0\" class=\"data row2 col0\" >1. FSV Mainz 05</td>\n",
       "      <td id=\"T_66a14_row2_col1\" class=\"data row2 col1\" >73.200000</td>\n",
       "      <td id=\"T_66a14_row2_col2\" class=\"data row2 col2\" >67.166667</td>\n",
       "    </tr>\n",
       "    <tr>\n",
       "      <td id=\"T_66a14_row3_col0\" class=\"data row3 col0\" >AC Milan</td>\n",
       "      <td id=\"T_66a14_row3_col1\" class=\"data row3 col1\" >78.400000</td>\n",
       "      <td id=\"T_66a14_row3_col2\" class=\"data row3 col2\" >76.357143</td>\n",
       "    </tr>\n",
       "    <tr>\n",
       "      <td id=\"T_66a14_row4_col0\" class=\"data row4 col0\" >AS Monaco</td>\n",
       "      <td id=\"T_66a14_row4_col1\" class=\"data row4 col1\" >74.750000</td>\n",
       "      <td id=\"T_66a14_row4_col2\" class=\"data row4 col2\" >75.235294</td>\n",
       "    </tr>\n",
       "  </tbody>\n",
       "</table>\n"
      ],
      "text/plain": [
       "<pandas.io.formats.style.Styler at 0x7f8de8690550>"
      ]
     },
     "execution_count": 21,
     "metadata": {},
     "output_type": "execute_result"
    }
   ],
   "source": [
    "club_analysis.head(5).style.hide(axis='index')"
   ]
  },
  {
   "cell_type": "code",
   "execution_count": 22,
   "id": "9782e03f",
   "metadata": {},
   "outputs": [],
   "source": [
    "#creating a new column showing the difference between left and right footed players overall average score across clubs\n",
    "club_analysis['difference'] = club_analysis['Left'] - club_analysis['Right']"
   ]
  },
  {
   "cell_type": "code",
   "execution_count": 23,
   "id": "ba278b07",
   "metadata": {},
   "outputs": [],
   "source": [
    "#creating a new column flagging if the club favours left or right footed players\n",
    "club_analysis['left_vs_right'] = \\\n",
    "club_analysis['difference'].apply(lambda x: 'Left Footed' if x >0 else 'Right Footed')\n"
   ]
  },
  {
   "cell_type": "code",
   "execution_count": 24,
   "id": "06577019",
   "metadata": {},
   "outputs": [
    {
     "data": {
      "text/html": [
       "<style type=\"text/css\">\n",
       "</style>\n",
       "<table id=\"T_0c0c4\">\n",
       "  <thead>\n",
       "    <tr>\n",
       "      <th id=\"T_0c0c4_level0_col0\" class=\"col_heading level0 col0\" >club_name</th>\n",
       "      <th id=\"T_0c0c4_level0_col1\" class=\"col_heading level0 col1\" >difference</th>\n",
       "    </tr>\n",
       "  </thead>\n",
       "  <tbody>\n",
       "    <tr>\n",
       "      <td id=\"T_0c0c4_row0_col0\" class=\"data row0 col0\" >Aston Villa</td>\n",
       "      <td id=\"T_0c0c4_row0_col1\" class=\"data row0 col1\" >7.403361</td>\n",
       "    </tr>\n",
       "    <tr>\n",
       "      <td id=\"T_0c0c4_row1_col0\" class=\"data row1 col0\" >Arsenal</td>\n",
       "      <td id=\"T_0c0c4_row1_col1\" class=\"data row1 col1\" >7.333333</td>\n",
       "    </tr>\n",
       "    <tr>\n",
       "      <td id=\"T_0c0c4_row2_col0\" class=\"data row2 col0\" >Cádiz CF</td>\n",
       "      <td id=\"T_0c0c4_row2_col1\" class=\"data row2 col1\" >6.681818</td>\n",
       "    </tr>\n",
       "    <tr>\n",
       "      <td id=\"T_0c0c4_row3_col0\" class=\"data row3 col0\" >1. FSV Mainz 05</td>\n",
       "      <td id=\"T_0c0c4_row3_col1\" class=\"data row3 col1\" >6.033333</td>\n",
       "    </tr>\n",
       "    <tr>\n",
       "      <td id=\"T_0c0c4_row4_col0\" class=\"data row4 col0\" >Southampton</td>\n",
       "      <td id=\"T_0c0c4_row4_col1\" class=\"data row4 col1\" >5.863636</td>\n",
       "    </tr>\n",
       "    <tr>\n",
       "      <td id=\"T_0c0c4_row5_col0\" class=\"data row5 col0\" >Atlético de Madrid</td>\n",
       "      <td id=\"T_0c0c4_row5_col1\" class=\"data row5 col1\" >5.618421</td>\n",
       "    </tr>\n",
       "    <tr>\n",
       "      <td id=\"T_0c0c4_row6_col0\" class=\"data row6 col0\" >Paris Saint-Germain</td>\n",
       "      <td id=\"T_0c0c4_row6_col1\" class=\"data row6 col1\" >5.311111</td>\n",
       "    </tr>\n",
       "    <tr>\n",
       "      <td id=\"T_0c0c4_row7_col0\" class=\"data row7 col0\" >RC Strasbourg Alsace</td>\n",
       "      <td id=\"T_0c0c4_row7_col1\" class=\"data row7 col1\" >5.150000</td>\n",
       "    </tr>\n",
       "    <tr>\n",
       "      <td id=\"T_0c0c4_row8_col0\" class=\"data row8 col0\" >Everton</td>\n",
       "      <td id=\"T_0c0c4_row8_col1\" class=\"data row8 col1\" >4.492754</td>\n",
       "    </tr>\n",
       "    <tr>\n",
       "      <td id=\"T_0c0c4_row9_col0\" class=\"data row9 col0\" >1. FC Köln</td>\n",
       "      <td id=\"T_0c0c4_row9_col1\" class=\"data row9 col1\" >4.082353</td>\n",
       "    </tr>\n",
       "  </tbody>\n",
       "</table>\n"
      ],
      "text/plain": [
       "<pandas.io.formats.style.Styler at 0x7f8de869f520>"
      ]
     },
     "execution_count": 24,
     "metadata": {},
     "output_type": "execute_result"
    }
   ],
   "source": [
    "#displaying the top 10 clubs favouring left footed players with highest difference in overall score in favour of lefties\n",
    "club_analysis[['club_name','difference']].\\\n",
    "sort_values(by='difference', ascending=False).head(10).style.hide(axis='index')\n"
   ]
  }
 ],
 "metadata": {
  "kernelspec": {
   "display_name": "Python 3 (ipykernel)",
   "language": "python",
   "name": "python3"
  },
  "language_info": {
   "codemirror_mode": {
    "name": "ipython",
    "version": 3
   },
   "file_extension": ".py",
   "mimetype": "text/x-python",
   "name": "python",
   "nbconvert_exporter": "python",
   "pygments_lexer": "ipython3",
   "version": "3.9.12"
  }
 },
 "nbformat": 4,
 "nbformat_minor": 5
}
